{
 "cells": [
  {
   "cell_type": "code",
   "execution_count": 1,
   "metadata": {},
   "outputs": [],
   "source": [
    "###Done by Kevin Sofronas\n",
    "from matplotlib import pyplot as plt\n",
    "import pandas as pd\n",
    "import numpy as np\n",
    "from sklearn import preprocessing\n",
    "from sklearn.model_selection import train_test_split,cross_val_predict,cross_val_score\n",
    "from sklearn.naive_bayes import GaussianNB\n",
    "from sklearn.naive_bayes import MultinomialNB\n",
    "from sklearn.naive_bayes import BernoulliNB\n",
    "from sklearn.linear_model import Perceptron\n",
    "from sklearn.neural_network import MLPClassifier\n",
    "from sklearn.tree import DecisionTreeClassifier\n",
    "from sklearn.ensemble import RandomForestClassifier\n",
    "from sklearn.metrics import accuracy_score\n",
    "from sklearn.metrics import confusion_matrix\n",
    "from sklearn.metrics import precision_score, recall_score\n",
    "import warnings\n",
    "warnings.filterwarnings(\"ignore\")\n",
    "\n",
    "#Read in emailSpamCollection\n",
    "df = pd.read_csv('SpamCollection', sep='\\t')\n",
    "#Dataframe does not have colum labels - add them\n",
    "df.columns = ['Label','email']"
   ]
  },
  {
   "cell_type": "code",
   "execution_count": 2,
   "metadata": {},
   "outputs": [
    {
     "data": {
      "text/html": [
       "<div>\n",
       "<style scoped>\n",
       "    .dataframe tbody tr th:only-of-type {\n",
       "        vertical-align: middle;\n",
       "    }\n",
       "\n",
       "    .dataframe tbody tr th {\n",
       "        vertical-align: top;\n",
       "    }\n",
       "\n",
       "    .dataframe thead th {\n",
       "        text-align: right;\n",
       "    }\n",
       "</style>\n",
       "<table border=\"1\" class=\"dataframe\">\n",
       "  <thead>\n",
       "    <tr style=\"text-align: right;\">\n",
       "      <th></th>\n",
       "      <th>Label</th>\n",
       "      <th>email</th>\n",
       "    </tr>\n",
       "  </thead>\n",
       "  <tbody>\n",
       "    <tr>\n",
       "      <th>0</th>\n",
       "      <td>ham</td>\n",
       "      <td>Ok lar... Joking wif u oni...</td>\n",
       "    </tr>\n",
       "    <tr>\n",
       "      <th>1</th>\n",
       "      <td>spam</td>\n",
       "      <td>Free entry in 2 a wkly comp to win FA Cup fina...</td>\n",
       "    </tr>\n",
       "    <tr>\n",
       "      <th>2</th>\n",
       "      <td>ham</td>\n",
       "      <td>U dun say so early hor... U c already then say...</td>\n",
       "    </tr>\n",
       "    <tr>\n",
       "      <th>3</th>\n",
       "      <td>ham</td>\n",
       "      <td>Nah I don't think he goes to usf, he lives aro...</td>\n",
       "    </tr>\n",
       "    <tr>\n",
       "      <th>4</th>\n",
       "      <td>spam</td>\n",
       "      <td>FreeMsg Hey there darling it's been 3 week's n...</td>\n",
       "    </tr>\n",
       "  </tbody>\n",
       "</table>\n",
       "</div>"
      ],
      "text/plain": [
       "  Label                                              email\n",
       "0   ham                      Ok lar... Joking wif u oni...\n",
       "1  spam  Free entry in 2 a wkly comp to win FA Cup fina...\n",
       "2   ham  U dun say so early hor... U c already then say...\n",
       "3   ham  Nah I don't think he goes to usf, he lives aro...\n",
       "4  spam  FreeMsg Hey there darling it's been 3 week's n..."
      ]
     },
     "execution_count": 2,
     "metadata": {},
     "output_type": "execute_result"
    }
   ],
   "source": [
    "#display first 5 rows of data\n",
    "df.head()"
   ]
  },
  {
   "cell_type": "code",
   "execution_count": 3,
   "metadata": {},
   "outputs": [
    {
     "data": {
      "text/html": [
       "<div>\n",
       "<style scoped>\n",
       "    .dataframe tbody tr th:only-of-type {\n",
       "        vertical-align: middle;\n",
       "    }\n",
       "\n",
       "    .dataframe tbody tr th {\n",
       "        vertical-align: top;\n",
       "    }\n",
       "\n",
       "    .dataframe thead th {\n",
       "        text-align: right;\n",
       "    }\n",
       "</style>\n",
       "<table border=\"1\" class=\"dataframe\">\n",
       "  <thead>\n",
       "    <tr style=\"text-align: right;\">\n",
       "      <th></th>\n",
       "      <th>Label</th>\n",
       "      <th>email</th>\n",
       "    </tr>\n",
       "  </thead>\n",
       "  <tbody>\n",
       "    <tr>\n",
       "      <th>0</th>\n",
       "      <td>0</td>\n",
       "      <td>[ok, lar, joking, wif, u, oni]</td>\n",
       "    </tr>\n",
       "    <tr>\n",
       "      <th>1</th>\n",
       "      <td>1</td>\n",
       "      <td>[free, entry, in, 2, a, wkly, comp, to, win, f...</td>\n",
       "    </tr>\n",
       "    <tr>\n",
       "      <th>2</th>\n",
       "      <td>0</td>\n",
       "      <td>[u, dun, say, so, early, hor, u, c, already, t...</td>\n",
       "    </tr>\n",
       "    <tr>\n",
       "      <th>3</th>\n",
       "      <td>0</td>\n",
       "      <td>[nah, i, don, t, think, he, goes, to, usf, he,...</td>\n",
       "    </tr>\n",
       "    <tr>\n",
       "      <th>4</th>\n",
       "      <td>1</td>\n",
       "      <td>[freemsg, hey, there, darling, it, s, been, 3,...</td>\n",
       "    </tr>\n",
       "  </tbody>\n",
       "</table>\n",
       "</div>"
      ],
      "text/plain": [
       "   Label                                              email\n",
       "0      0                     [ok, lar, joking, wif, u, oni]\n",
       "1      1  [free, entry, in, 2, a, wkly, comp, to, win, f...\n",
       "2      0  [u, dun, say, so, early, hor, u, c, already, t...\n",
       "3      0  [nah, i, don, t, think, he, goes, to, usf, he,...\n",
       "4      1  [freemsg, hey, there, darling, it, s, been, 3,..."
      ]
     },
     "execution_count": 3,
     "metadata": {},
     "output_type": "execute_result"
    }
   ],
   "source": [
    "#Pre-process and clean up dataset by removing trailing white spaces, converting to lower case etc.\n",
    "#it also puts each email text into a list of words that is stored in the email column of the dataframe\n",
    "#this is the code you'll need when you read in the test data\n",
    "email_data_clean = df.copy()\n",
    "email_data_clean['email'] = email_data_clean['email'].str.replace('\\W+', ' ').str.replace('\\s+', ' ').str.strip()\n",
    "email_data_clean['email'] = email_data_clean['email'].str.lower()\n",
    "email_data_clean['email'] = email_data_clean['email'].str.split()\n",
    "le = preprocessing.LabelEncoder()\n",
    "\n",
    "#change label from ham/spam to 0/1\n",
    "email_data_clean['Label'] = le.fit_transform(email_data_clean['Label'])\n",
    "\n",
    "#View new data\n",
    "email_data_clean.head()"
   ]
  },
  {
   "cell_type": "code",
   "execution_count": 4,
   "metadata": {},
   "outputs": [
    {
     "data": {
      "text/plain": [
       "8751"
      ]
     },
     "execution_count": 4,
     "metadata": {},
     "output_type": "execute_result"
    }
   ],
   "source": [
    "#get nparray of all words in email\n",
    "np_sms = email_data_clean.iloc[:,1].values\n",
    "#store them in vocabulary \n",
    "vocabulary = list(set(np_sms.sum()))\n",
    "vocabulary\n",
    "#these are all the words in the dataset\n",
    "#8751 words \n",
    "len(vocabulary)"
   ]
  },
  {
   "cell_type": "code",
   "execution_count": 5,
   "metadata": {},
   "outputs": [
    {
     "data": {
      "text/html": [
       "<div>\n",
       "<style scoped>\n",
       "    .dataframe tbody tr th:only-of-type {\n",
       "        vertical-align: middle;\n",
       "    }\n",
       "\n",
       "    .dataframe tbody tr th {\n",
       "        vertical-align: top;\n",
       "    }\n",
       "\n",
       "    .dataframe thead th {\n",
       "        text-align: right;\n",
       "    }\n",
       "</style>\n",
       "<table border=\"1\" class=\"dataframe\">\n",
       "  <thead>\n",
       "    <tr style=\"text-align: right;\">\n",
       "      <th></th>\n",
       "      <th>fwiw</th>\n",
       "      <th>terrorist</th>\n",
       "      <th>1mega</th>\n",
       "      <th>champ</th>\n",
       "      <th>from</th>\n",
       "      <th>begging</th>\n",
       "      <th>txting</th>\n",
       "      <th>528</th>\n",
       "      <th>studdying</th>\n",
       "      <th>inever</th>\n",
       "      <th>...</th>\n",
       "      <th>ride</th>\n",
       "      <th>squid</th>\n",
       "      <th>moves</th>\n",
       "      <th>eating</th>\n",
       "      <th>regalportfolio</th>\n",
       "      <th>motherfucker</th>\n",
       "      <th>jeremiah</th>\n",
       "      <th>clever</th>\n",
       "      <th>prescription</th>\n",
       "      <th>bao</th>\n",
       "    </tr>\n",
       "  </thead>\n",
       "  <tbody>\n",
       "    <tr>\n",
       "      <th>0</th>\n",
       "      <td>0</td>\n",
       "      <td>0</td>\n",
       "      <td>0</td>\n",
       "      <td>0</td>\n",
       "      <td>0</td>\n",
       "      <td>0</td>\n",
       "      <td>0</td>\n",
       "      <td>0</td>\n",
       "      <td>0</td>\n",
       "      <td>0</td>\n",
       "      <td>...</td>\n",
       "      <td>0</td>\n",
       "      <td>0</td>\n",
       "      <td>0</td>\n",
       "      <td>0</td>\n",
       "      <td>0</td>\n",
       "      <td>0</td>\n",
       "      <td>0</td>\n",
       "      <td>0</td>\n",
       "      <td>0</td>\n",
       "      <td>0</td>\n",
       "    </tr>\n",
       "    <tr>\n",
       "      <th>1</th>\n",
       "      <td>0</td>\n",
       "      <td>0</td>\n",
       "      <td>0</td>\n",
       "      <td>0</td>\n",
       "      <td>0</td>\n",
       "      <td>0</td>\n",
       "      <td>0</td>\n",
       "      <td>0</td>\n",
       "      <td>0</td>\n",
       "      <td>0</td>\n",
       "      <td>...</td>\n",
       "      <td>0</td>\n",
       "      <td>0</td>\n",
       "      <td>0</td>\n",
       "      <td>0</td>\n",
       "      <td>0</td>\n",
       "      <td>0</td>\n",
       "      <td>0</td>\n",
       "      <td>0</td>\n",
       "      <td>0</td>\n",
       "      <td>0</td>\n",
       "    </tr>\n",
       "    <tr>\n",
       "      <th>2</th>\n",
       "      <td>0</td>\n",
       "      <td>0</td>\n",
       "      <td>0</td>\n",
       "      <td>0</td>\n",
       "      <td>0</td>\n",
       "      <td>0</td>\n",
       "      <td>0</td>\n",
       "      <td>0</td>\n",
       "      <td>0</td>\n",
       "      <td>0</td>\n",
       "      <td>...</td>\n",
       "      <td>0</td>\n",
       "      <td>0</td>\n",
       "      <td>0</td>\n",
       "      <td>0</td>\n",
       "      <td>0</td>\n",
       "      <td>0</td>\n",
       "      <td>0</td>\n",
       "      <td>0</td>\n",
       "      <td>0</td>\n",
       "      <td>0</td>\n",
       "    </tr>\n",
       "    <tr>\n",
       "      <th>3</th>\n",
       "      <td>0</td>\n",
       "      <td>0</td>\n",
       "      <td>0</td>\n",
       "      <td>0</td>\n",
       "      <td>0</td>\n",
       "      <td>0</td>\n",
       "      <td>0</td>\n",
       "      <td>0</td>\n",
       "      <td>0</td>\n",
       "      <td>0</td>\n",
       "      <td>...</td>\n",
       "      <td>0</td>\n",
       "      <td>0</td>\n",
       "      <td>0</td>\n",
       "      <td>0</td>\n",
       "      <td>0</td>\n",
       "      <td>0</td>\n",
       "      <td>0</td>\n",
       "      <td>0</td>\n",
       "      <td>0</td>\n",
       "      <td>0</td>\n",
       "    </tr>\n",
       "    <tr>\n",
       "      <th>4</th>\n",
       "      <td>0</td>\n",
       "      <td>0</td>\n",
       "      <td>0</td>\n",
       "      <td>0</td>\n",
       "      <td>0</td>\n",
       "      <td>0</td>\n",
       "      <td>0</td>\n",
       "      <td>0</td>\n",
       "      <td>0</td>\n",
       "      <td>0</td>\n",
       "      <td>...</td>\n",
       "      <td>0</td>\n",
       "      <td>0</td>\n",
       "      <td>0</td>\n",
       "      <td>0</td>\n",
       "      <td>0</td>\n",
       "      <td>0</td>\n",
       "      <td>0</td>\n",
       "      <td>0</td>\n",
       "      <td>0</td>\n",
       "      <td>0</td>\n",
       "    </tr>\n",
       "  </tbody>\n",
       "</table>\n",
       "<p>5 rows × 8751 columns</p>\n",
       "</div>"
      ],
      "text/plain": [
       "   fwiw  terrorist  1mega  champ  from  begging  txting  528  studdying  \\\n",
       "0     0          0      0      0     0        0       0    0          0   \n",
       "1     0          0      0      0     0        0       0    0          0   \n",
       "2     0          0      0      0     0        0       0    0          0   \n",
       "3     0          0      0      0     0        0       0    0          0   \n",
       "4     0          0      0      0     0        0       0    0          0   \n",
       "\n",
       "   inever  ...  ride  squid  moves  eating  regalportfolio  motherfucker  \\\n",
       "0       0  ...     0      0      0       0               0             0   \n",
       "1       0  ...     0      0      0       0               0             0   \n",
       "2       0  ...     0      0      0       0               0             0   \n",
       "3       0  ...     0      0      0       0               0             0   \n",
       "4       0  ...     0      0      0       0               0             0   \n",
       "\n",
       "   jeremiah  clever  prescription  bao  \n",
       "0         0       0             0    0  \n",
       "1         0       0             0    0  \n",
       "2         0       0             0    0  \n",
       "3         0       0             0    0  \n",
       "4         0       0             0    0  \n",
       "\n",
       "[5 rows x 8751 columns]"
      ]
     },
     "execution_count": 5,
     "metadata": {},
     "output_type": "execute_result"
    }
   ],
   "source": [
    "#create new dataframe with each word as a feature and the # of times the word occurs as value\n",
    "df_voc = pd.DataFrame([\n",
    "    [row.count(word) for word in vocabulary]\n",
    "    for row in email_data_clean.iloc[:,1].values], columns=vocabulary)\n",
    " \n",
    "#use this as your training data\n",
    "df_voc_train = df_voc.copy()\n",
    "\n",
    "#Add the label back to the dataframe\n",
    "#Use this dataframe if you need the label to create charts\n",
    "df_voc['Label'] = email_data_clean.loc[:,'Label']\n",
    "\n",
    "#use the df_voc_train to train your classifiers\n",
    "df_voc_train.head()"
   ]
  },
  {
   "cell_type": "code",
   "execution_count": 6,
   "metadata": {},
   "outputs": [
    {
     "data": {
      "text/plain": [
       "747"
      ]
     },
     "execution_count": 6,
     "metadata": {},
     "output_type": "execute_result"
    }
   ],
   "source": [
    "spamcounts = email_data_clean[\"Label\"].value_counts()\n",
    "spamcounts[1]"
   ]
  },
  {
   "cell_type": "code",
   "execution_count": 7,
   "metadata": {},
   "outputs": [
    {
     "data": {
      "text/plain": [
       "0    4824\n",
       "1     747\n",
       "Name: Label, dtype: int64"
      ]
     },
     "execution_count": 7,
     "metadata": {},
     "output_type": "execute_result"
    }
   ],
   "source": [
    "spamcounts"
   ]
  },
  {
   "cell_type": "code",
   "execution_count": 8,
   "metadata": {},
   "outputs": [
    {
     "data": {
      "image/png": "[encoded data removed]",
      "text/plain": [
       "<Figure size 432x288 with 1 Axes>"
      ]
     },
     "metadata": {
      "needs_background": "light"
     },
     "output_type": "display_data"
    }
   ],
   "source": [
    "#spamcounts = email_data_clean[\"Label\"].value_counts()\n",
    "plt.bar(x=[0,0.4], height = spamcounts, width=0.35)\n",
    "plt.xticks([0,0.4], (\"Ham\", \"Spam\"))\n",
    "plt.ylabel(\"Count\")\n",
    "plt.title(\"Ham vs Spam\")\n",
    "plt.show()"
   ]
  },
  {
   "cell_type": "code",
   "execution_count": 9,
   "metadata": {},
   "outputs": [
    {
     "data": {
      "text/plain": [
       "i      3021\n",
       "to     2253\n",
       "you    2245\n",
       "a      1450\n",
       "the    1339\n",
       "u      1207\n",
       "and     980\n",
       "in      902\n",
       "is      897\n",
       "dtype: int64"
      ]
     },
     "execution_count": 9,
     "metadata": {},
     "output_type": "execute_result"
    }
   ],
   "source": [
    "df_voc.sum().sort_values(ascending = False)[0:9]"
   ]
  },
  {
   "cell_type": "code",
   "execution_count": 10,
   "metadata": {},
   "outputs": [],
   "source": [
    "email_data_spam = email_data_clean[email_data_clean[\"Label\"]==1]\n",
    "email_data_ham = email_data_clean[email_data_clean[\"Label\"]==0]"
   ]
  },
  {
   "cell_type": "code",
   "execution_count": 11,
   "metadata": {},
   "outputs": [
    {
     "data": {
      "text/html": [
       "<div>\n",
       "<style scoped>\n",
       "    .dataframe tbody tr th:only-of-type {\n",
       "        vertical-align: middle;\n",
       "    }\n",
       "\n",
       "    .dataframe tbody tr th {\n",
       "        vertical-align: top;\n",
       "    }\n",
       "\n",
       "    .dataframe thead th {\n",
       "        text-align: right;\n",
       "    }\n",
       "</style>\n",
       "<table border=\"1\" class=\"dataframe\">\n",
       "  <thead>\n",
       "    <tr style=\"text-align: right;\">\n",
       "      <th></th>\n",
       "      <th>09050002311</th>\n",
       "      <th>84128</th>\n",
       "      <th>cops</th>\n",
       "      <th>std</th>\n",
       "      <th>09050001295</th>\n",
       "      <th>sae</th>\n",
       "      <th>immediately</th>\n",
       "      <th>or2optout</th>\n",
       "      <th>god</th>\n",
       "      <th>09066358361</th>\n",
       "      <th>...</th>\n",
       "      <th>08704439680ts</th>\n",
       "      <th>rooms</th>\n",
       "      <th>2exit</th>\n",
       "      <th>regalportfolio</th>\n",
       "      <th>number</th>\n",
       "      <th>cm</th>\n",
       "      <th>link</th>\n",
       "      <th>pobox12n146tf150p</th>\n",
       "      <th>sexual</th>\n",
       "      <th>Label</th>\n",
       "    </tr>\n",
       "  </thead>\n",
       "  <tbody>\n",
       "    <tr>\n",
       "      <th>0</th>\n",
       "      <td>0</td>\n",
       "      <td>0</td>\n",
       "      <td>0</td>\n",
       "      <td>1</td>\n",
       "      <td>0</td>\n",
       "      <td>0</td>\n",
       "      <td>0</td>\n",
       "      <td>0</td>\n",
       "      <td>0</td>\n",
       "      <td>0</td>\n",
       "      <td>...</td>\n",
       "      <td>0</td>\n",
       "      <td>0</td>\n",
       "      <td>0</td>\n",
       "      <td>0</td>\n",
       "      <td>0</td>\n",
       "      <td>0</td>\n",
       "      <td>0</td>\n",
       "      <td>0</td>\n",
       "      <td>0</td>\n",
       "      <td>NaN</td>\n",
       "    </tr>\n",
       "    <tr>\n",
       "      <th>1</th>\n",
       "      <td>0</td>\n",
       "      <td>0</td>\n",
       "      <td>0</td>\n",
       "      <td>1</td>\n",
       "      <td>0</td>\n",
       "      <td>0</td>\n",
       "      <td>0</td>\n",
       "      <td>0</td>\n",
       "      <td>0</td>\n",
       "      <td>0</td>\n",
       "      <td>...</td>\n",
       "      <td>0</td>\n",
       "      <td>0</td>\n",
       "      <td>0</td>\n",
       "      <td>0</td>\n",
       "      <td>0</td>\n",
       "      <td>0</td>\n",
       "      <td>0</td>\n",
       "      <td>0</td>\n",
       "      <td>0</td>\n",
       "      <td>1.0</td>\n",
       "    </tr>\n",
       "    <tr>\n",
       "      <th>2</th>\n",
       "      <td>0</td>\n",
       "      <td>0</td>\n",
       "      <td>0</td>\n",
       "      <td>0</td>\n",
       "      <td>0</td>\n",
       "      <td>0</td>\n",
       "      <td>0</td>\n",
       "      <td>0</td>\n",
       "      <td>0</td>\n",
       "      <td>0</td>\n",
       "      <td>...</td>\n",
       "      <td>0</td>\n",
       "      <td>0</td>\n",
       "      <td>0</td>\n",
       "      <td>0</td>\n",
       "      <td>0</td>\n",
       "      <td>0</td>\n",
       "      <td>0</td>\n",
       "      <td>0</td>\n",
       "      <td>0</td>\n",
       "      <td>NaN</td>\n",
       "    </tr>\n",
       "    <tr>\n",
       "      <th>3</th>\n",
       "      <td>0</td>\n",
       "      <td>0</td>\n",
       "      <td>0</td>\n",
       "      <td>0</td>\n",
       "      <td>0</td>\n",
       "      <td>0</td>\n",
       "      <td>0</td>\n",
       "      <td>0</td>\n",
       "      <td>0</td>\n",
       "      <td>0</td>\n",
       "      <td>...</td>\n",
       "      <td>0</td>\n",
       "      <td>0</td>\n",
       "      <td>0</td>\n",
       "      <td>0</td>\n",
       "      <td>0</td>\n",
       "      <td>0</td>\n",
       "      <td>0</td>\n",
       "      <td>0</td>\n",
       "      <td>0</td>\n",
       "      <td>NaN</td>\n",
       "    </tr>\n",
       "    <tr>\n",
       "      <th>4</th>\n",
       "      <td>0</td>\n",
       "      <td>0</td>\n",
       "      <td>0</td>\n",
       "      <td>0</td>\n",
       "      <td>0</td>\n",
       "      <td>0</td>\n",
       "      <td>0</td>\n",
       "      <td>0</td>\n",
       "      <td>0</td>\n",
       "      <td>0</td>\n",
       "      <td>...</td>\n",
       "      <td>0</td>\n",
       "      <td>0</td>\n",
       "      <td>0</td>\n",
       "      <td>0</td>\n",
       "      <td>0</td>\n",
       "      <td>0</td>\n",
       "      <td>0</td>\n",
       "      <td>0</td>\n",
       "      <td>0</td>\n",
       "      <td>1.0</td>\n",
       "    </tr>\n",
       "  </tbody>\n",
       "</table>\n",
       "<p>5 rows × 2896 columns</p>\n",
       "</div>"
      ],
      "text/plain": [
       "   09050002311  84128  cops  std  09050001295  sae  immediately  or2optout  \\\n",
       "0            0      0     0    1            0    0            0          0   \n",
       "1            0      0     0    1            0    0            0          0   \n",
       "2            0      0     0    0            0    0            0          0   \n",
       "3            0      0     0    0            0    0            0          0   \n",
       "4            0      0     0    0            0    0            0          0   \n",
       "\n",
       "   god  09066358361  ...  08704439680ts  rooms  2exit  regalportfolio  number  \\\n",
       "0    0            0  ...              0      0      0               0       0   \n",
       "1    0            0  ...              0      0      0               0       0   \n",
       "2    0            0  ...              0      0      0               0       0   \n",
       "3    0            0  ...              0      0      0               0       0   \n",
       "4    0            0  ...              0      0      0               0       0   \n",
       "\n",
       "   cm  link  pobox12n146tf150p  sexual  Label  \n",
       "0   0     0                  0       0    NaN  \n",
       "1   0     0                  0       0    1.0  \n",
       "2   0     0                  0       0    NaN  \n",
       "3   0     0                  0       0    NaN  \n",
       "4   0     0                  0       0    1.0  \n",
       "\n",
       "[5 rows x 2896 columns]"
      ]
     },
     "execution_count": 11,
     "metadata": {},
     "output_type": "execute_result"
    }
   ],
   "source": [
    "#get nparray of all words in email\n",
    "np_sms_spam = email_data_spam.iloc[:,1].values\n",
    "np_sms_ham = email_data_ham.iloc[:,1].values\n",
    "#store them in vocabulary \n",
    "vocabulary_spam = list(set(np_sms_spam.sum()))\n",
    "vocabulary_ham = list(set(np_sms_ham.sum()))\n",
    "\n",
    "#create new dataframe with each word as a feature and the # of times the word occurs as value\n",
    "df_voc_spam = pd.DataFrame([\n",
    "    [row.count(word) for word in vocabulary_spam]\n",
    "    for row in email_data_spam.iloc[:,1].values], columns=vocabulary_spam)\n",
    "\n",
    "df_voc_ham = pd.DataFrame([\n",
    "    [row.count(word) for word in vocabulary_ham]\n",
    "    for row in email_data_ham.iloc[:,1].values], columns=vocabulary_ham)\n",
    "\n",
    "#use this as your training data\n",
    "df_voc_spam_train = df_voc_spam.copy()\n",
    "df_voc_ham_train = df_voc_ham.copy()\n",
    "\n",
    "#Add the label back to the dataframe\n",
    "#Use this dataframe if you need the label to create charts\n",
    "df_voc_spam['Label'] = email_data_spam.loc[:,'Label']\n",
    "df_voc_ham['Label'] = email_data_ham.loc[:,'Label']\n",
    "\n",
    "#use the df_voc_train to train your classifiers\n",
    "df_voc_spam.head()"
   ]
  },
  {
   "cell_type": "code",
   "execution_count": 12,
   "metadata": {},
   "outputs": [
    {
     "data": {
      "text/plain": [
       "to      691.0\n",
       "a       380.0\n",
       "call    355.0\n",
       "you     297.0\n",
       "your    264.0\n",
       "free    224.0\n",
       "2       207.0\n",
       "the     206.0\n",
       "for     204.0\n",
       "dtype: float64"
      ]
     },
     "execution_count": 12,
     "metadata": {},
     "output_type": "execute_result"
    }
   ],
   "source": [
    "#most spammed words\n",
    "df_voc_spam.sum().sort_values(ascending = False)[0:9]"
   ]
  },
  {
   "cell_type": "code",
   "execution_count": 13,
   "metadata": {},
   "outputs": [
    {
     "data": {
      "text/plain": [
       "i      2960.0\n",
       "you    1948.0\n",
       "to     1562.0\n",
       "the    1133.0\n",
       "a      1070.0\n",
       "u      1033.0\n",
       "and     858.0\n",
       "in      822.0\n",
       "me      777.0\n",
       "dtype: float64"
      ]
     },
     "execution_count": 13,
     "metadata": {},
     "output_type": "execute_result"
    }
   ],
   "source": [
    "#most hammed words\n",
    "df_voc_ham.sum().sort_values(ascending = False)[0:9]"
   ]
  },
  {
   "cell_type": "code",
   "execution_count": 14,
   "metadata": {},
   "outputs": [
    {
     "data": {
      "image/png": "[encoded data removed]",
      "text/plain": [
       "<Figure size 432x288 with 1 Axes>"
      ]
     },
     "metadata": {
      "needs_background": "light"
     },
     "output_type": "display_data"
    }
   ],
   "source": [
    "plt.bar(x=[i for i, _ in enumerate(df_voc.sum().sort_values(ascending=False)[0:9])], height = df_voc.sum().sort_values(ascending=False)[0:9], width=0.35)\n",
    "plt.xticks([i for i, _ in enumerate(df_voc.sum().sort_values(ascending=False)[0:9])], df_voc.sum().sort_values(ascending=False)[0:9].index)\n",
    "plt.ylabel(\"Count\")\n",
    "plt.title(\"Words that appear the most\")\n",
    "plt.show()"
   ]
  },
  {
   "cell_type": "code",
   "execution_count": 15,
   "metadata": {},
   "outputs": [
    {
     "data": {
      "image/png": "[encoded data removed]",
      "text/plain": [
       "<Figure size 432x288 with 1 Axes>"
      ]
     },
     "metadata": {
      "needs_background": "light"
     },
     "output_type": "display_data"
    }
   ],
   "source": [
    "plt.bar(x=[i for i, _ in enumerate(df_voc_spam.sum().sort_values(ascending=False)[0:9])], height = df_voc_spam.sum().sort_values(ascending=False)[0:9], width=0.35)\n",
    "plt.xticks([i for i, _ in enumerate(df_voc_spam.sum().sort_values(ascending=False)[0:9])], df_voc_spam.sum().sort_values(ascending=False)[0:9].index)\n",
    "plt.ylabel(\"Count\")\n",
    "plt.title(\"Words that appear the most in spam\")\n",
    "plt.show()"
   ]
  },
  {
   "cell_type": "code",
   "execution_count": 16,
   "metadata": {},
   "outputs": [
    {
     "data": {
      "image/png": "[encoded data removed]",
      "text/plain": [
       "<Figure size 432x288 with 1 Axes>"
      ]
     },
     "metadata": {
      "needs_background": "light"
     },
     "output_type": "display_data"
    }
   ],
   "source": [
    "plt.bar(x=[i for i, _ in enumerate(df_voc_ham.sum().sort_values(ascending=False)[0:9])], height = df_voc_ham.sum().sort_values(ascending=False)[0:9], width=0.35)\n",
    "plt.xticks([i for i, _ in enumerate(df_voc_ham.sum().sort_values(ascending=False)[0:9])], df_voc_ham.sum().sort_values(ascending=False)[0:9].index)\n",
    "plt.ylabel(\"Count\")\n",
    "plt.title(\"Words that appear the most in ham\")\n",
    "plt.show()"
   ]
  },
  {
   "cell_type": "code",
   "execution_count": 72,
   "metadata": {},
   "outputs": [],
   "source": [
    "# df_voc_train\n",
    "# email_data_clean[\"Label\"]\n",
    "bernoulli = BernoulliNB()\n",
    "bernoulli.fit(df_voc_train, email_data_clean[\"Label\"])\n",
    "bern_pred = cv_pred = cross_val_predict(bernoulli, df_voc_train, email_data_clean['Label'], cv=5)\n",
    "bern_score = cross_val_score(bernoulli,df_voc_train, email_data_clean['Label'], cv=5)\n",
    "bern_avg = np.mean(bern_score)"
   ]
  },
  {
   "cell_type": "code",
   "execution_count": 42,
   "metadata": {},
   "outputs": [
    {
     "data": {
      "text/plain": [
       "0.9809720556150422"
      ]
     },
     "execution_count": 42,
     "metadata": {},
     "output_type": "execute_result"
    }
   ],
   "source": [
    "bern_avg"
   ]
  },
  {
   "cell_type": "raw",
   "metadata": {},
   "source": []
  },
  {
   "cell_type": "code",
   "execution_count": 43,
   "metadata": {},
   "outputs": [
    {
     "name": "stdout",
     "output_type": "stream",
     "text": [
      "ccr = 0.9809728953509245 \n",
      "precision = 0.8755020080321285 \n",
      "recall = 0.9805097451274363\n"
     ]
    }
   ],
   "source": [
    "ccr = accuracy_score(bern_pred,email_data_clean['Label'])\n",
    "precision = precision_score(bern_pred,email_data_clean['Label'])\n",
    "recall = recall_score(bern_pred,email_data_clean['Label'])\n",
    "print(\"ccr =\",ccr,\"\\nprecision =\",precision,\"\\nrecall =\", recall)"
   ]
  },
  {
   "cell_type": "code",
   "execution_count": 73,
   "metadata": {},
   "outputs": [
    {
     "data": {
      "text/plain": [
       "0.9541188118811881"
      ]
     },
     "execution_count": 73,
     "metadata": {},
     "output_type": "execute_result"
    }
   ],
   "source": [
    "multinomial = MultinomialNB()\n",
    "multinomial.fit(df_voc_train, email_data_clean[\"Label\"])\n",
    "mult_pred = cv_pred = cross_val_predict(multinomial, df_voc_train, email_data_clean['Label'], cv=5)\n",
    "mult_score = cross_val_score(multinomial,df_voc_train, email_data_clean['Label'], cv=5)\n",
    "mult_avg = np.mean(mult_score)\n",
    "mult_avg"
   ]
  },
  {
   "cell_type": "code",
   "execution_count": 45,
   "metadata": {},
   "outputs": [
    {
     "name": "stdout",
     "output_type": "stream",
     "text": [
      "ccr = 0.982049901274457 \n",
      "precision = 0.9477911646586346 \n",
      "recall = 0.9206762028608583\n"
     ]
    }
   ],
   "source": [
    "ccr = accuracy_score(mult_pred,email_data_clean['Label'])\n",
    "precision = precision_score(mult_pred,email_data_clean['Label'])\n",
    "recall = recall_score(mult_pred,email_data_clean['Label'])\n",
    "print(\"ccr =\",ccr,\"\\nprecision =\",precision,\"\\nrecall =\", recall)"
   ]
  },
  {
   "cell_type": "code",
   "execution_count": 74,
   "metadata": {},
   "outputs": [
    {
     "data": {
      "text/plain": [
       "0.9002574257425742"
      ]
     },
     "execution_count": 74,
     "metadata": {},
     "output_type": "execute_result"
    }
   ],
   "source": [
    "decisionTree = DecisionTreeClassifier()\n",
    "decisionTree.fit(df_voc_train, email_data_clean[\"Label\"])\n",
    "dt_pred = cv_pred = cross_val_predict(decisionTree, df_voc_train, email_data_clean['Label'], cv=5)\n",
    "dt_score = cross_val_score(decisionTree,df_voc_train, email_data_clean['Label'], cv=5)\n",
    "dt_avg = np.mean(dt_score)\n",
    "dt_avg"
   ]
  },
  {
   "cell_type": "code",
   "execution_count": 47,
   "metadata": {},
   "outputs": [
    {
     "name": "stdout",
     "output_type": "stream",
     "text": [
      "ccr = 0.9711003410518758 \n",
      "precision = 0.8755020080321285 \n",
      "recall = 0.9058171745152355\n"
     ]
    }
   ],
   "source": [
    "ccr = accuracy_score(dt_pred,email_data_clean['Label'])\n",
    "precision = precision_score(dt_pred,email_data_clean['Label'])\n",
    "recall = recall_score(dt_pred,email_data_clean['Label'])\n",
    "print(\"ccr =\",ccr,\"\\nprecision =\",precision,\"\\nrecall =\", recall)"
   ]
  },
  {
   "cell_type": "code",
   "execution_count": 75,
   "metadata": {},
   "outputs": [
    {
     "data": {
      "text/plain": [
       "0.9161386138613862"
      ]
     },
     "execution_count": 75,
     "metadata": {},
     "output_type": "execute_result"
    }
   ],
   "source": [
    "perceptron = Perceptron()\n",
    "perceptron.fit(df_voc_train, email_data_clean[\"Label\"])\n",
    "ptron_pred = cv_pred = cross_val_predict(perceptron, df_voc_train, email_data_clean['Label'], cv=5)\n",
    "ptron_score = cross_val_score(perceptron,df_voc_train, email_data_clean['Label'], cv=5)\n",
    "ptron_avg = np.mean(ptron_score)\n",
    "ptron_avg"
   ]
  },
  {
   "cell_type": "code",
   "execution_count": 49,
   "metadata": {},
   "outputs": [
    {
     "name": "stdout",
     "output_type": "stream",
     "text": [
      "ccr = 0.9849219170705439 \n",
      "precision = 0.9036144578313253 \n",
      "recall = 0.982532751091703\n"
     ]
    }
   ],
   "source": [
    "ccr = accuracy_score(ptron_pred,email_data_clean['Label'])\n",
    "precision = precision_score(ptron_pred,email_data_clean['Label'])\n",
    "recall = recall_score(ptron_pred,email_data_clean['Label'])\n",
    "print(\"ccr =\",ccr,\"\\nprecision =\",precision,\"\\nrecall =\", recall)"
   ]
  },
  {
   "cell_type": "code",
   "execution_count": 76,
   "metadata": {},
   "outputs": [
    {
     "data": {
      "text/plain": [
       "0.9321188118811881"
      ]
     },
     "execution_count": 76,
     "metadata": {},
     "output_type": "execute_result"
    }
   ],
   "source": [
    "randomForest = RandomForestClassifier()\n",
    "randomForest.fit(df_voc_train, email_data_clean[\"Label\"])\n",
    "rf_pred = cv_pred = cross_val_predict(randomForest, df_voc_train, email_data_clean['Label'], cv=5)\n",
    "rf_score = cross_val_score(randomForest,df_voc_train, email_data_clean['Label'], cv=5)\n",
    "rf_avg = np.mean(rf_score)\n",
    "rf_avg"
   ]
  },
  {
   "cell_type": "code",
   "execution_count": 51,
   "metadata": {},
   "outputs": [
    {
     "name": "stdout",
     "output_type": "stream",
     "text": [
      "ccr = 0.9746903607969843 \n",
      "precision = 0.8152610441767069 \n",
      "recall = 0.9950980392156863\n"
     ]
    }
   ],
   "source": [
    "ccr = accuracy_score(rf_pred,email_data_clean['Label'])\n",
    "precision = precision_score(rf_pred,email_data_clean['Label'])\n",
    "recall = recall_score(rf_pred,email_data_clean['Label'])\n",
    "print(\"ccr =\",ccr,\"\\nprecision =\",precision,\"\\nrecall =\", recall)"
   ]
  },
  {
   "cell_type": "code",
   "execution_count": 23,
   "metadata": {},
   "outputs": [],
   "source": [
    "###It seems like the perceptron did the best."
   ]
  },
  {
   "cell_type": "code",
   "execution_count": 26,
   "metadata": {},
   "outputs": [
    {
     "data": {
      "text/html": [
       "<div>\n",
       "<style scoped>\n",
       "    .dataframe tbody tr th:only-of-type {\n",
       "        vertical-align: middle;\n",
       "    }\n",
       "\n",
       "    .dataframe tbody tr th {\n",
       "        vertical-align: top;\n",
       "    }\n",
       "\n",
       "    .dataframe thead th {\n",
       "        text-align: right;\n",
       "    }\n",
       "</style>\n",
       "<table border=\"1\" class=\"dataframe\">\n",
       "  <thead>\n",
       "    <tr style=\"text-align: right;\">\n",
       "      <th></th>\n",
       "      <th>fwiw</th>\n",
       "      <th>terrorist</th>\n",
       "      <th>1mega</th>\n",
       "      <th>champ</th>\n",
       "      <th>from</th>\n",
       "      <th>begging</th>\n",
       "      <th>txting</th>\n",
       "      <th>528</th>\n",
       "      <th>studdying</th>\n",
       "      <th>inever</th>\n",
       "      <th>...</th>\n",
       "      <th>squid</th>\n",
       "      <th>moves</th>\n",
       "      <th>eating</th>\n",
       "      <th>regalportfolio</th>\n",
       "      <th>motherfucker</th>\n",
       "      <th>jeremiah</th>\n",
       "      <th>clever</th>\n",
       "      <th>prescription</th>\n",
       "      <th>bao</th>\n",
       "      <th>Label</th>\n",
       "    </tr>\n",
       "  </thead>\n",
       "  <tbody>\n",
       "    <tr>\n",
       "      <th>5157</th>\n",
       "      <td>0</td>\n",
       "      <td>0</td>\n",
       "      <td>0</td>\n",
       "      <td>0</td>\n",
       "      <td>0</td>\n",
       "      <td>0</td>\n",
       "      <td>0</td>\n",
       "      <td>0</td>\n",
       "      <td>0</td>\n",
       "      <td>0</td>\n",
       "      <td>...</td>\n",
       "      <td>0</td>\n",
       "      <td>0</td>\n",
       "      <td>0</td>\n",
       "      <td>0</td>\n",
       "      <td>0</td>\n",
       "      <td>0</td>\n",
       "      <td>0</td>\n",
       "      <td>0</td>\n",
       "      <td>0</td>\n",
       "      <td>0</td>\n",
       "    </tr>\n",
       "    <tr>\n",
       "      <th>235</th>\n",
       "      <td>0</td>\n",
       "      <td>0</td>\n",
       "      <td>0</td>\n",
       "      <td>0</td>\n",
       "      <td>0</td>\n",
       "      <td>0</td>\n",
       "      <td>0</td>\n",
       "      <td>0</td>\n",
       "      <td>0</td>\n",
       "      <td>0</td>\n",
       "      <td>...</td>\n",
       "      <td>0</td>\n",
       "      <td>0</td>\n",
       "      <td>0</td>\n",
       "      <td>0</td>\n",
       "      <td>0</td>\n",
       "      <td>0</td>\n",
       "      <td>0</td>\n",
       "      <td>0</td>\n",
       "      <td>0</td>\n",
       "      <td>0</td>\n",
       "    </tr>\n",
       "    <tr>\n",
       "      <th>3980</th>\n",
       "      <td>0</td>\n",
       "      <td>0</td>\n",
       "      <td>0</td>\n",
       "      <td>0</td>\n",
       "      <td>0</td>\n",
       "      <td>0</td>\n",
       "      <td>0</td>\n",
       "      <td>0</td>\n",
       "      <td>0</td>\n",
       "      <td>0</td>\n",
       "      <td>...</td>\n",
       "      <td>0</td>\n",
       "      <td>0</td>\n",
       "      <td>0</td>\n",
       "      <td>0</td>\n",
       "      <td>0</td>\n",
       "      <td>0</td>\n",
       "      <td>0</td>\n",
       "      <td>0</td>\n",
       "      <td>0</td>\n",
       "      <td>1</td>\n",
       "    </tr>\n",
       "    <tr>\n",
       "      <th>5192</th>\n",
       "      <td>0</td>\n",
       "      <td>0</td>\n",
       "      <td>0</td>\n",
       "      <td>0</td>\n",
       "      <td>0</td>\n",
       "      <td>0</td>\n",
       "      <td>0</td>\n",
       "      <td>0</td>\n",
       "      <td>0</td>\n",
       "      <td>0</td>\n",
       "      <td>...</td>\n",
       "      <td>0</td>\n",
       "      <td>0</td>\n",
       "      <td>0</td>\n",
       "      <td>0</td>\n",
       "      <td>0</td>\n",
       "      <td>0</td>\n",
       "      <td>0</td>\n",
       "      <td>0</td>\n",
       "      <td>0</td>\n",
       "      <td>0</td>\n",
       "    </tr>\n",
       "    <tr>\n",
       "      <th>905</th>\n",
       "      <td>0</td>\n",
       "      <td>0</td>\n",
       "      <td>0</td>\n",
       "      <td>0</td>\n",
       "      <td>0</td>\n",
       "      <td>0</td>\n",
       "      <td>0</td>\n",
       "      <td>0</td>\n",
       "      <td>0</td>\n",
       "      <td>0</td>\n",
       "      <td>...</td>\n",
       "      <td>0</td>\n",
       "      <td>0</td>\n",
       "      <td>0</td>\n",
       "      <td>0</td>\n",
       "      <td>0</td>\n",
       "      <td>0</td>\n",
       "      <td>0</td>\n",
       "      <td>0</td>\n",
       "      <td>0</td>\n",
       "      <td>0</td>\n",
       "    </tr>\n",
       "    <tr>\n",
       "      <th>...</th>\n",
       "      <td>...</td>\n",
       "      <td>...</td>\n",
       "      <td>...</td>\n",
       "      <td>...</td>\n",
       "      <td>...</td>\n",
       "      <td>...</td>\n",
       "      <td>...</td>\n",
       "      <td>...</td>\n",
       "      <td>...</td>\n",
       "      <td>...</td>\n",
       "      <td>...</td>\n",
       "      <td>...</td>\n",
       "      <td>...</td>\n",
       "      <td>...</td>\n",
       "      <td>...</td>\n",
       "      <td>...</td>\n",
       "      <td>...</td>\n",
       "      <td>...</td>\n",
       "      <td>...</td>\n",
       "      <td>...</td>\n",
       "      <td>...</td>\n",
       "    </tr>\n",
       "    <tr>\n",
       "      <th>1712</th>\n",
       "      <td>0</td>\n",
       "      <td>0</td>\n",
       "      <td>0</td>\n",
       "      <td>0</td>\n",
       "      <td>0</td>\n",
       "      <td>0</td>\n",
       "      <td>0</td>\n",
       "      <td>0</td>\n",
       "      <td>0</td>\n",
       "      <td>0</td>\n",
       "      <td>...</td>\n",
       "      <td>0</td>\n",
       "      <td>0</td>\n",
       "      <td>0</td>\n",
       "      <td>0</td>\n",
       "      <td>0</td>\n",
       "      <td>0</td>\n",
       "      <td>0</td>\n",
       "      <td>0</td>\n",
       "      <td>0</td>\n",
       "      <td>0</td>\n",
       "    </tr>\n",
       "    <tr>\n",
       "      <th>412</th>\n",
       "      <td>0</td>\n",
       "      <td>0</td>\n",
       "      <td>0</td>\n",
       "      <td>0</td>\n",
       "      <td>0</td>\n",
       "      <td>0</td>\n",
       "      <td>0</td>\n",
       "      <td>0</td>\n",
       "      <td>0</td>\n",
       "      <td>0</td>\n",
       "      <td>...</td>\n",
       "      <td>0</td>\n",
       "      <td>0</td>\n",
       "      <td>0</td>\n",
       "      <td>0</td>\n",
       "      <td>0</td>\n",
       "      <td>0</td>\n",
       "      <td>0</td>\n",
       "      <td>0</td>\n",
       "      <td>0</td>\n",
       "      <td>0</td>\n",
       "    </tr>\n",
       "    <tr>\n",
       "      <th>4891</th>\n",
       "      <td>0</td>\n",
       "      <td>0</td>\n",
       "      <td>0</td>\n",
       "      <td>0</td>\n",
       "      <td>0</td>\n",
       "      <td>0</td>\n",
       "      <td>0</td>\n",
       "      <td>0</td>\n",
       "      <td>0</td>\n",
       "      <td>0</td>\n",
       "      <td>...</td>\n",
       "      <td>0</td>\n",
       "      <td>0</td>\n",
       "      <td>0</td>\n",
       "      <td>0</td>\n",
       "      <td>0</td>\n",
       "      <td>0</td>\n",
       "      <td>0</td>\n",
       "      <td>0</td>\n",
       "      <td>0</td>\n",
       "      <td>0</td>\n",
       "    </tr>\n",
       "    <tr>\n",
       "      <th>1835</th>\n",
       "      <td>0</td>\n",
       "      <td>0</td>\n",
       "      <td>0</td>\n",
       "      <td>0</td>\n",
       "      <td>0</td>\n",
       "      <td>0</td>\n",
       "      <td>0</td>\n",
       "      <td>0</td>\n",
       "      <td>0</td>\n",
       "      <td>0</td>\n",
       "      <td>...</td>\n",
       "      <td>0</td>\n",
       "      <td>0</td>\n",
       "      <td>0</td>\n",
       "      <td>0</td>\n",
       "      <td>0</td>\n",
       "      <td>0</td>\n",
       "      <td>0</td>\n",
       "      <td>0</td>\n",
       "      <td>0</td>\n",
       "      <td>0</td>\n",
       "    </tr>\n",
       "    <tr>\n",
       "      <th>2195</th>\n",
       "      <td>0</td>\n",
       "      <td>0</td>\n",
       "      <td>0</td>\n",
       "      <td>0</td>\n",
       "      <td>0</td>\n",
       "      <td>0</td>\n",
       "      <td>0</td>\n",
       "      <td>0</td>\n",
       "      <td>0</td>\n",
       "      <td>0</td>\n",
       "      <td>...</td>\n",
       "      <td>0</td>\n",
       "      <td>0</td>\n",
       "      <td>0</td>\n",
       "      <td>0</td>\n",
       "      <td>0</td>\n",
       "      <td>0</td>\n",
       "      <td>0</td>\n",
       "      <td>0</td>\n",
       "      <td>0</td>\n",
       "      <td>0</td>\n",
       "    </tr>\n",
       "  </tbody>\n",
       "</table>\n",
       "<p>557 rows × 8752 columns</p>\n",
       "</div>"
      ],
      "text/plain": [
       "      fwiw  terrorist  1mega  champ  from  begging  txting  528  studdying  \\\n",
       "5157     0          0      0      0     0        0       0    0          0   \n",
       "235      0          0      0      0     0        0       0    0          0   \n",
       "3980     0          0      0      0     0        0       0    0          0   \n",
       "5192     0          0      0      0     0        0       0    0          0   \n",
       "905      0          0      0      0     0        0       0    0          0   \n",
       "...    ...        ...    ...    ...   ...      ...     ...  ...        ...   \n",
       "1712     0          0      0      0     0        0       0    0          0   \n",
       "412      0          0      0      0     0        0       0    0          0   \n",
       "4891     0          0      0      0     0        0       0    0          0   \n",
       "1835     0          0      0      0     0        0       0    0          0   \n",
       "2195     0          0      0      0     0        0       0    0          0   \n",
       "\n",
       "      inever  ...  squid  moves  eating  regalportfolio  motherfucker  \\\n",
       "5157       0  ...      0      0       0               0             0   \n",
       "235        0  ...      0      0       0               0             0   \n",
       "3980       0  ...      0      0       0               0             0   \n",
       "5192       0  ...      0      0       0               0             0   \n",
       "905        0  ...      0      0       0               0             0   \n",
       "...      ...  ...    ...    ...     ...             ...           ...   \n",
       "1712       0  ...      0      0       0               0             0   \n",
       "412        0  ...      0      0       0               0             0   \n",
       "4891       0  ...      0      0       0               0             0   \n",
       "1835       0  ...      0      0       0               0             0   \n",
       "2195       0  ...      0      0       0               0             0   \n",
       "\n",
       "      jeremiah  clever  prescription  bao  Label  \n",
       "5157         0       0             0    0      0  \n",
       "235          0       0             0    0      0  \n",
       "3980         0       0             0    0      1  \n",
       "5192         0       0             0    0      0  \n",
       "905          0       0             0    0      0  \n",
       "...        ...     ...           ...  ...    ...  \n",
       "1712         0       0             0    0      0  \n",
       "412          0       0             0    0      0  \n",
       "4891         0       0             0    0      0  \n",
       "1835         0       0             0    0      0  \n",
       "2195         0       0             0    0      0  \n",
       "\n",
       "[557 rows x 8752 columns]"
      ]
     },
     "execution_count": 26,
     "metadata": {},
     "output_type": "execute_result"
    }
   ],
   "source": [
    "sample_10 = df_voc.sample(frac=0.1, replace=True, random_state=1)\n",
    "sample_10_train = sample_10.drop('Label', axis=1)\n",
    "sample_10"
   ]
  },
  {
   "cell_type": "code",
   "execution_count": 61,
   "metadata": {},
   "outputs": [
    {
     "name": "stdout",
     "output_type": "stream",
     "text": [
      "Bernoulli:\n",
      "ccr = 0.8779174147217235 \n",
      "precision = 0.0 \n",
      "recall = 0.0\n",
      "\n",
      "\n",
      "Multinomial:\n",
      "ccr = 0.947935368043088 \n",
      "precision = 0.5882352941176471 \n",
      "recall = 0.975609756097561\n",
      "\n",
      "\n",
      "Decision Tree:\n",
      "ccr = 0.9551166965888689 \n",
      "precision = 0.8088235294117647 \n",
      "recall = 0.8208955223880597\n",
      "\n",
      "\n",
      "Perceptron:\n",
      "ccr = 0.9640933572710951 \n",
      "precision = 0.7794117647058824 \n",
      "recall = 0.9137931034482759\n",
      "\n",
      "\n",
      "Random Forest:\n",
      "ccr = 0.9281867145421903 \n",
      "precision = 0.4117647058823529 \n",
      "recall = 1.0\n"
     ]
    }
   ],
   "source": [
    "# df_voc_train\n",
    "# email_data_clean[\"Label\"]\n",
    "bernoulli = BernoulliNB()\n",
    "bernoulli.fit(df_voc_train, email_data_clean[\"Label\"])\n",
    "bern_pred = cv_pred = cross_val_predict(bernoulli, sample_10_train, sample_10['Label'], cv=5)\n",
    "bern_score = cross_val_score(bernoulli,sample_10_train, sample_10['Label'], cv=5)\n",
    "bern_avg = np.mean(bern_score)\\\n",
    "\n",
    "ccr = accuracy_score(bern_pred,sample_10['Label'])\n",
    "precision = precision_score(bern_pred,sample_10['Label'])\n",
    "recall = recall_score(bern_pred,sample_10['Label'])\n",
    "print(\"Bernoulli:\\nccr =\",ccr,\"\\nprecision =\",precision,\"\\nrecall =\", recall)\n",
    "\n",
    "multinomial = MultinomialNB()\n",
    "multinomial.fit(df_voc_train, email_data_clean[\"Label\"])\n",
    "mult_pred = cv_pred = cross_val_predict(multinomial, sample_10_train, sample_10['Label'], cv=5)\n",
    "mult_score = cross_val_score(multinomial,sample_10_train, sample_10['Label'], cv=5)\n",
    "mult_avg = np.mean(mult_score)\n",
    "\n",
    "ccr = accuracy_score(mult_pred,sample_10['Label'])\n",
    "precision = precision_score(mult_pred,sample_10['Label'])\n",
    "recall = recall_score(mult_pred,sample_10['Label'])\n",
    "print(\"\\n\\nMultinomial:\\nccr =\",ccr,\"\\nprecision =\",precision,\"\\nrecall =\", recall)\n",
    "\n",
    "decisionTree = DecisionTreeClassifier()\n",
    "decisionTree.fit(df_voc_train, email_data_clean[\"Label\"])\n",
    "dt_pred = cv_pred = cross_val_predict(decisionTree, sample_10_train, sample_10['Label'], cv=5)\n",
    "dt_score = cross_val_score(decisionTree,sample_10_train, sample_10['Label'], cv=5)\n",
    "dt_avg = np.mean(dt_score)\n",
    "\n",
    "ccr = accuracy_score(dt_pred,sample_10['Label'])\n",
    "precision = precision_score(dt_pred,sample_10['Label'])\n",
    "recall = recall_score(dt_pred,sample_10['Label'])\n",
    "print(\"\\n\\nDecision Tree:\\nccr =\",ccr,\"\\nprecision =\",precision,\"\\nrecall =\", recall)\n",
    "\n",
    "perceptron = Perceptron()\n",
    "perceptron.fit(df_voc_train, email_data_clean[\"Label\"])\n",
    "ptron_pred = cv_pred = cross_val_predict(perceptron, sample_10_train, sample_10['Label'], cv=5)\n",
    "ptron_score = cross_val_score(perceptron,sample_10_train, sample_10['Label'], cv=5)\n",
    "ptron_avg = np.mean(ptron_score)\n",
    "\n",
    "ccr = accuracy_score(ptron_pred,sample_10['Label'])\n",
    "precision = precision_score(ptron_pred,sample_10['Label'])\n",
    "recall = recall_score(ptron_pred,sample_10['Label'])\n",
    "print(\"\\n\\nPerceptron:\\nccr =\",ccr,\"\\nprecision =\",precision,\"\\nrecall =\", recall)\n",
    "\n",
    "randomForest = RandomForestClassifier()\n",
    "randomForest.fit(df_voc_train, email_data_clean[\"Label\"])\n",
    "rf_pred = cv_pred = cross_val_predict(randomForest, sample_10_train, sample_10['Label'], cv=5)\n",
    "rf_score = cross_val_score(randomForest,sample_10_train, sample_10['Label'], cv=5)\n",
    "rf_avg = np.mean(rf_score)\n",
    "\n",
    "ccr = accuracy_score(rf_pred,sample_10['Label'])\n",
    "precision = precision_score(rf_pred,sample_10['Label'])\n",
    "recall = recall_score(rf_pred,sample_10['Label'])\n",
    "print(\"\\n\\nRandom Forest:\\nccr =\",ccr,\"\\nprecision =\",precision,\"\\nrecall =\", recall)\n",
    "\n",
    "# print(bern_avg, mult_avg, dt_avg, ptron_avg, rf_avg)"
   ]
  },
  {
   "cell_type": "code",
   "execution_count": 55,
   "metadata": {},
   "outputs": [],
   "source": [
    "sample_50 = df_voc.sample(frac=0.5, replace=True,\n",
    "random_state=1)\n",
    "sample_50_train = sample_50.drop('Label', axis=1)"
   ]
  },
  {
   "cell_type": "code",
   "execution_count": 62,
   "metadata": {
    "scrolled": false
   },
   "outputs": [
    {
     "name": "stdout",
     "output_type": "stream",
     "text": [
      "Bernoulli:\n",
      "ccr = 0.9651830581478823 \n",
      "precision = 0.7270114942528736 \n",
      "recall = 0.9921568627450981\n",
      "\n",
      "\n",
      "Multinomial:\n",
      "ccr = 0.9860014357501795 \n",
      "precision = 0.9396551724137931 \n",
      "recall = 0.9478260869565217\n",
      "\n",
      "\n",
      "Decision Tree:\n",
      "ccr = 0.9730796841349605 \n",
      "precision = 0.8649425287356322 \n",
      "recall = 0.9148936170212766\n",
      "\n",
      "\n",
      "Perceptron:\n",
      "ccr = 0.9831299353912419 \n",
      "precision = 0.9080459770114943 \n",
      "recall = 0.9546827794561934\n",
      "\n",
      "\n",
      "Random Forest:\n",
      "ccr = 0.9752333094041636 \n",
      "precision = 0.8045977011494253 \n",
      "recall = 0.99644128113879\n"
     ]
    }
   ],
   "source": [
    "# df_voc_train\n",
    "# email_data_clean[\"Label\"]\n",
    "bernoulli = BernoulliNB()\n",
    "bernoulli.fit(df_voc_train, email_data_clean[\"Label\"])\n",
    "bern_pred = cv_pred = cross_val_predict(bernoulli, sample_50_train, sample_50['Label'], cv=5)\n",
    "bern_score = cross_val_score(bernoulli,sample_50_train, sample_50['Label'], cv=5)\n",
    "bern_avg = np.mean(bern_score)\\\n",
    "\n",
    "ccr = accuracy_score(bern_pred,sample_50['Label'])\n",
    "precision = precision_score(bern_pred,sample_50['Label'])\n",
    "recall = recall_score(bern_pred,sample_50['Label'])\n",
    "print(\"Bernoulli:\\nccr =\",ccr,\"\\nprecision =\",precision,\"\\nrecall =\", recall)\n",
    "\n",
    "multinomial = MultinomialNB()\n",
    "multinomial.fit(df_voc_train, email_data_clean[\"Label\"])\n",
    "mult_pred = cv_pred = cross_val_predict(multinomial, sample_50_train, sample_50['Label'], cv=5)\n",
    "mult_score = cross_val_score(multinomial,sample_50_train, sample_50['Label'], cv=5)\n",
    "mult_avg = np.mean(mult_score)\n",
    "\n",
    "ccr = accuracy_score(mult_pred,sample_50['Label'])\n",
    "precision = precision_score(mult_pred,sample_50['Label'])\n",
    "recall = recall_score(mult_pred,sample_50['Label'])\n",
    "print(\"\\n\\nMultinomial:\\nccr =\",ccr,\"\\nprecision =\",precision,\"\\nrecall =\", recall)\n",
    "\n",
    "decisionTree = DecisionTreeClassifier()\n",
    "decisionTree.fit(df_voc_train, email_data_clean[\"Label\"])\n",
    "dt_pred = cv_pred = cross_val_predict(decisionTree, sample_50_train, sample_50['Label'], cv=5)\n",
    "dt_score = cross_val_score(decisionTree,sample_50_train, sample_50['Label'], cv=5)\n",
    "dt_avg = np.mean(dt_score)\n",
    "\n",
    "ccr = accuracy_score(dt_pred,sample_50['Label'])\n",
    "precision = precision_score(dt_pred,sample_50['Label'])\n",
    "recall = recall_score(dt_pred,sample_50['Label'])\n",
    "print(\"\\n\\nDecision Tree:\\nccr =\",ccr,\"\\nprecision =\",precision,\"\\nrecall =\", recall)\n",
    "\n",
    "perceptron = Perceptron()\n",
    "perceptron.fit(df_voc_train, email_data_clean[\"Label\"])\n",
    "ptron_pred = cv_pred = cross_val_predict(perceptron, sample_50_train, sample_50['Label'], cv=5)\n",
    "ptron_score = cross_val_score(perceptron,sample_50_train, sample_50['Label'], cv=5)\n",
    "ptron_avg = np.mean(ptron_score)\n",
    "\n",
    "ccr = accuracy_score(ptron_pred,sample_50['Label'])\n",
    "precision = precision_score(ptron_pred,sample_50['Label'])\n",
    "recall = recall_score(ptron_pred,sample_50['Label'])\n",
    "print(\"\\n\\nPerceptron:\\nccr =\",ccr,\"\\nprecision =\",precision,\"\\nrecall =\", recall)\n",
    "\n",
    "randomForest = RandomForestClassifier()\n",
    "randomForest.fit(df_voc_train, email_data_clean[\"Label\"])\n",
    "rf_pred = cv_pred = cross_val_predict(randomForest, sample_50_train, sample_50['Label'], cv=5)\n",
    "rf_score = cross_val_score(randomForest,sample_50_train, sample_50['Label'], cv=5)\n",
    "rf_avg = np.mean(rf_score)\n",
    "\n",
    "ccr = accuracy_score(rf_pred,sample_50['Label'])\n",
    "precision = precision_score(rf_pred,sample_50['Label'])\n",
    "recall = recall_score(rf_pred,sample_50['Label'])\n",
    "print(\"\\n\\nRandom Forest:\\nccr =\",ccr,\"\\nprecision =\",precision,\"\\nrecall =\", recall)\n",
    "\n",
    "# print(bern_avg, mult_avg, dt_avg, ptron_avg, rf_avg)"
   ]
  },
  {
   "cell_type": "code",
   "execution_count": 57,
   "metadata": {},
   "outputs": [],
   "source": [
    "###It seems like not a lot of data is needed to get decent results from the classifiers."
   ]
  },
  {
   "cell_type": "code",
   "execution_count": 60,
   "metadata": {},
   "outputs": [
    {
     "data": {
      "image/png": "[encoded data removed]",
      "text/plain": [
       "<Figure size 432x288 with 1 Axes>"
      ]
     },
     "metadata": {
      "needs_background": "light"
     },
     "output_type": "display_data"
    }
   ],
   "source": [
    "#Read in emailSpamCollection\n",
    "df = pd.read_csv('sh_500.csv')\n",
    "#Dataframe does not have colum labels - add them\n",
    "df.columns = ['Label','email']\n",
    "\n",
    "#Pre-process and clean up dataset by removing trailing white spaces, converting to lower case etc.\n",
    "#it also puts each email text into a list of words that is stored in the email column of the dataframe\n",
    "#this is the code you'll need when you read in the test data\n",
    "email_data_clean = df.copy()\n",
    "email_data_clean['email'] = email_data_clean['email'].str.replace('\\W+', ' ').str.replace('\\s+', ' ').str.strip()\n",
    "email_data_clean['email'] = email_data_clean['email'].str.lower()\n",
    "email_data_clean['email'] = email_data_clean['email'].str.split()\n",
    "le = preprocessing.LabelEncoder()\n",
    "\n",
    "#change label from ham/spam to 0/1\n",
    "email_data_clean['Label'] = le.fit_transform(email_data_clean['Label'])\n",
    "\n",
    "#get nparray of all words in email\n",
    "np_sms = email_data_clean.iloc[:,1].values\n",
    "#store them in vocabulary \n",
    "vocabulary = list(set(np_sms.sum()))\n",
    "#these are all the words in the dataset\n",
    "\n",
    "#create new dataframe with each word as a feature and the # of times the word occurs as value\n",
    "df_voc = pd.DataFrame([\n",
    "    [row.count(word) for word in vocabulary]\n",
    "    for row in email_data_clean.iloc[:,1].values], columns=vocabulary)\n",
    " \n",
    "#use this as your training data\n",
    "df_voc_train = df_voc.copy()\n",
    "\n",
    "#Add the label back to the dataframe\n",
    "#Use this dataframe if you need the label to create charts\n",
    "df_voc['Label'] = email_data_clean.loc[:,'Label']\n",
    "\n",
    "#spamcounts = email_data_clean[\"Label\"].value_counts()\n",
    "plt.bar(x=[0,0.4], height = spamcounts, width=0.35)\n",
    "plt.xticks([0,0.4], (\"Ham\", \"Spam\"))\n",
    "plt.ylabel(\"Count\")\n",
    "plt.title(\"Ham vs Spam\")\n",
    "plt.show()\n",
    "###This looks similar to the training data"
   ]
  },
  {
   "cell_type": "code",
   "execution_count": 82,
   "metadata": {},
   "outputs": [
    {
     "name": "stdout",
     "output_type": "stream",
     "text": [
      "Bernoulli:\n",
      "ccr = 0.8483033932135728 \n",
      "precision = 0.5099337748344371 \n",
      "recall = 0.9746835443037974\n",
      "\n",
      "\n",
      "Multinomial:\n",
      "ccr = 0.9900199600798403 \n",
      "precision = 0.9735099337748344 \n",
      "recall = 0.9932432432432432\n",
      "\n",
      "\n",
      "Decision Tree:\n",
      "ccr = 1.0 \n",
      "precision = 1.0 \n",
      "recall = 1.0\n",
      "\n",
      "\n",
      "Perceptron:\n",
      "ccr = 1.0 \n",
      "precision = 1.0 \n",
      "recall = 1.0\n",
      "\n",
      "\n",
      "Random Forest:\n",
      "ccr = 1.0 \n",
      "precision = 1.0 \n",
      "recall = 1.0\n"
     ]
    }
   ],
   "source": [
    "# bern_pred = cv_pred = cross_val_predict(bernoulli, df_voc_train, df_voc['Label'], cv=5)\n",
    "# mult_pred = cv_pred = cross_val_predict(multinomial, df_voc_train, df_voc['Label'], cv=5)\n",
    "# dt_pred = cv_pred = cross_val_predict(decisionTree, df_voc_train, df_voc['Label'], cv=5)\n",
    "# ptron_pred = cv_pred = cross_val_predict(perceptron, df_voc_train, df_voc['Label'], cv=5)\n",
    "# rf_pred = cv_pred = cross_val_predict(randomForest, df_voc_train, df_voc['Label'], cv=5)\n",
    "\n",
    "bern_pred = bernoulli.predict(df_voc_train)\n",
    "accuracy = accuracy_score(bern_pred,df_voc['Label'])\n",
    "precision = precision_score(bern_pred,df_voc['Label'])\n",
    "recall = recall_score(bern_pred,df_voc['Label'])\n",
    "print(\"Bernoulli:\\nccr =\",accuracy,\"\\nprecision =\",precision,\"\\nrecall =\", recall)\n",
    "\n",
    "mult_pred = multinomial.predict(df_voc_train)\n",
    "accuracy = accuracy_score(mult_pred,df_voc['Label'])\n",
    "precision = precision_score(mult_pred,df_voc['Label'])\n",
    "recall = recall_score(mult_pred,df_voc['Label'])\n",
    "print(\"\\n\\nMultinomial:\\nccr =\",accuracy,\"\\nprecision =\",precision,\"\\nrecall =\", recall)\n",
    "\n",
    "dt_pred = decisionTree.predict(df_voc_train)\n",
    "accuracy = accuracy_score(dt_pred,df_voc['Label'])\n",
    "precision = precision_score(dt_pred,df_voc['Label'])\n",
    "recall = recall_score(dt_pred,df_voc['Label'])\n",
    "print(\"\\n\\nDecision Tree:\\nccr =\",accuracy,\"\\nprecision =\",precision,\"\\nrecall =\", recall)\n",
    "\n",
    "ptron_pred = perceptron.predict(df_voc_train)\n",
    "accuracy = accuracy_score(ptron_pred,df_voc['Label'])\n",
    "precision = precision_score(ptron_pred,df_voc['Label'])\n",
    "recall = recall_score(ptron_pred,df_voc['Label'])\n",
    "print(\"\\n\\nPerceptron:\\nccr =\",accuracy,\"\\nprecision =\",precision,\"\\nrecall =\", recall)\n",
    "\n",
    "rf_pred = randomForest.predict(df_voc_train)\n",
    "accuracy = accuracy_score(rf_pred,df_voc['Label'])\n",
    "precision = precision_score(rf_pred,df_voc['Label'])\n",
    "recall = recall_score(rf_pred,df_voc['Label'])\n",
    "print(\"\\n\\nRandom Forest:\\nccr =\",accuracy,\"\\nprecision =\",precision,\"\\nrecall =\", recall)"
   ]
  },
  {
   "cell_type": "markdown",
   "metadata": {},
   "source": [
    "### It seems like the classifiers performed well on the sample data. I went back and re-trained the classifiers on the entirety of the SpamCollection file to try to get a better fit.\n",
    "\n",
    "### Honestly I'm not sure they should have done this well, it feels like I shouldn't have been able to get a CCR, Precision, and Recall of 1.0 on 3 of the classifiers. Either I did something right or I did something very wrong. "
   ]
  }
 ],
 "metadata": {
  "kernelspec": {
   "display_name": "Python 3",
   "language": "python",
   "name": "python3"
  },
  "language_info": {
   "codemirror_mode": {
    "name": "ipython",
    "version": 3
   },
   "file_extension": ".py",
   "mimetype": "text/x-python",
   "name": "python",
   "nbconvert_exporter": "python",
   "pygments_lexer": "ipython3",
   "version": "3.8.5"
  }
 },
 "nbformat": 4,
 "nbformat_minor": 4
}
